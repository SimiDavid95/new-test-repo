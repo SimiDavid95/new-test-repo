{
    "cells": [
        {
            "cell_type": "markdown",
            "metadata": {
                "collapsed": true
            },
            "source": "# Test Notebook"
        },
        {
            "cell_type": "markdown",
            "metadata": {},
            "source": "This is a test notebook. Below will be some algebraic equations for your amusement."
        },
        {
            "cell_type": "code",
            "execution_count": 1,
            "metadata": {},
            "outputs": [],
            "source": "x <- 10"
        },
        {
            "cell_type": "code",
            "execution_count": 2,
            "metadata": {},
            "outputs": [],
            "source": "y <- 5"
        },
        {
            "cell_type": "code",
            "execution_count": 3,
            "metadata": {},
            "outputs": [
                {
                    "data": {
                        "text/html": "15",
                        "text/latex": "15",
                        "text/markdown": "15",
                        "text/plain": "[1] 15"
                    },
                    "metadata": {},
                    "output_type": "display_data"
                }
            ],
            "source": "x + y"
        },
        {
            "cell_type": "code",
            "execution_count": 4,
            "metadata": {},
            "outputs": [
                {
                    "data": {
                        "text/html": "1e+05",
                        "text/latex": "1e+05",
                        "text/markdown": "1e+05",
                        "text/plain": "[1] 1e+05"
                    },
                    "metadata": {},
                    "output_type": "display_data"
                }
            ],
            "source": "x ^ y"
        },
        {
            "cell_type": "code",
            "execution_count": 5,
            "metadata": {},
            "outputs": [
                {
                    "data": {
                        "text/html": "5",
                        "text/latex": "5",
                        "text/markdown": "5",
                        "text/plain": "[1] 5"
                    },
                    "metadata": {},
                    "output_type": "display_data"
                }
            ],
            "source": "x - y"
        },
        {
            "cell_type": "code",
            "execution_count": 6,
            "metadata": {},
            "outputs": [
                {
                    "data": {
                        "text/html": "FALSE",
                        "text/latex": "FALSE",
                        "text/markdown": "FALSE",
                        "text/plain": "[1] FALSE"
                    },
                    "metadata": {},
                    "output_type": "display_data"
                }
            ],
            "source": "x == y"
        },
        {
            "cell_type": "code",
            "execution_count": 7,
            "metadata": {},
            "outputs": [
                {
                    "data": {
                        "text/html": "TRUE",
                        "text/latex": "TRUE",
                        "text/markdown": "TRUE",
                        "text/plain": "[1] TRUE"
                    },
                    "metadata": {},
                    "output_type": "display_data"
                }
            ],
            "source": "x > y"
        },
        {
            "cell_type": "code",
            "execution_count": 8,
            "metadata": {},
            "outputs": [
                {
                    "data": {
                        "text/html": "TRUE",
                        "text/latex": "TRUE",
                        "text/markdown": "TRUE",
                        "text/plain": "[1] TRUE"
                    },
                    "metadata": {},
                    "output_type": "display_data"
                }
            ],
            "source": "x >= y"
        }
    ],
    "metadata": {
        "kernelspec": {
            "display_name": "R 3.6",
            "language": "R",
            "name": "r"
        },
        "language_info": {
            "codemirror_mode": "r",
            "file_extension": ".r",
            "mimetype": "text/x-r-source",
            "name": "R",
            "pygments_lexer": "r",
            "version": "3.6.1"
        }
    },
    "nbformat": 4,
    "nbformat_minor": 1
}